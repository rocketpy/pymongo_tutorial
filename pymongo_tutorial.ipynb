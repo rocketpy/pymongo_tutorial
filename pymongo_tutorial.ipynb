{
 "cells": [
  {
   "cell_type": "code",
   "execution_count": null,
   "metadata": {},
   "outputs": [],
   "source": [
    "# https://metanit.com/nosql/mongodb/\n",
    "# http://api.mongodb.com/python/current/tutorial.html\n",
    "# https://www.w3schools.com/python/python_mongodb_getstarted.asp"
   ]
  },
  {
   "cell_type": "code",
   "execution_count": null,
   "metadata": {},
   "outputs": [],
   "source": [
    "# pip install pymongo\n",
    "\n",
    "import pymongo"
   ]
  },
  {
   "cell_type": "code",
   "execution_count": null,
   "metadata": {},
   "outputs": [],
   "source": [
    "# Create a database called \"mydatabase\"\n",
    "\n",
    "import pymongo\n",
    "\n",
    "myclient = pymongo.MongoClient(\"mongodb://localhost:27017/\")\n",
    "\n",
    "mydb = myclient[\"mydatabase\"]\n",
    "\n",
    "\"\"\"\n",
    "Important: In MongoDB, a database is not created until it gets content!\n",
    "MongoDB waits until you have created a collection (table), \n",
    "with at least one document (record) before it actually creates the database (and collection).\n",
    "\"\"\""
   ]
  },
  {
   "cell_type": "code",
   "execution_count": null,
   "metadata": {},
   "outputs": [],
   "source": [
    "# The first step when working with PyMongo is to create a MongoClient.\n",
    "\n",
    "from pymongo import MongoClient\n",
    "\n",
    "client = MongoClient()\n",
    "\n",
    "client = MongoClient('localhost', 27017)\n",
    "# or\n",
    "client = MongoClient('mongodb://localhost:27017/')"
   ]
  },
  {
   "cell_type": "code",
   "execution_count": null,
   "metadata": {},
   "outputs": [],
   "source": [
    "# Check if Database Exists\n",
    "\n",
    "print(myclient.list_database_names())\n",
    "\n",
    "dblist = myclient.list_database_names()\n",
    "if \"mydatabase\" in dblist:\n",
    "    print(\"The database exists.\")"
   ]
  },
  {
   "cell_type": "code",
   "execution_count": null,
   "metadata": {},
   "outputs": [],
   "source": [
    "# Create a collection called \"customers\"\n",
    "\n",
    "import pymongo\n",
    "\n",
    "myclient = pymongo.MongoClient(\"mongodb://localhost:27017/\")\n",
    "mydb = myclient[\"mydatabase\"]\n",
    "\n",
    "mycol = mydb[\"customers\"]\n",
    "\n",
    "print(mydb.list_collection_names())\n",
    "\n",
    "# Check if the \"customers\" collection exists\n",
    "\n",
    "collist = mydb.list_collection_names()\n",
    "if \"customers\" in collist:\n",
    "    print(\"The collection exists.\")"
   ]
  },
  {
   "cell_type": "code",
   "execution_count": null,
   "metadata": {},
   "outputs": [],
   "source": [
    "# https://riptutorial.com/ru/pymongo\n",
    "# quick start\n",
    "\n",
    "from pymongo import MongoClient\n",
    "\n",
    "client = MongoClient()\n",
    "col = client.mydb.test\n",
    "\n",
    "# insert_one(document)\n",
    "result = col.insert_one({'x':1})\n",
    "\n",
    "result.inserted_id\n",
    "\n",
    "# insert_many(documents)\n",
    "result = col.insert_many([{'x': 2}, {'x': 3}])\n",
    "\n",
    "result.inserted_ids\n",
    "\n"
   ]
  },
  {
   "cell_type": "code",
   "execution_count": null,
   "metadata": {},
   "outputs": [],
   "source": [
    "# To insert a record, or document as it is called in MongoDB, into a collection, use the insert_one() method\n",
    "\n",
    "import pymongo\n",
    "\n",
    "myclient = pymongo.MongoClient(\"mongodb://localhost:27017/\")\n",
    "mydb = myclient[\"mydatabase\"]\n",
    "mycol = mydb[\"customers\"]\n",
    "\n",
    "mydict = { \"name\": \"John\", \"address\": \"Highway 37\" }\n",
    "\n",
    "x = mycol.insert_one(mydict)"
   ]
  }
 ],
 "metadata": {
  "kernelspec": {
   "display_name": "Python 3",
   "language": "python",
   "name": "python3"
  },
  "language_info": {
   "codemirror_mode": {
    "name": "ipython",
    "version": 3
   },
   "file_extension": ".py",
   "mimetype": "text/x-python",
   "name": "python",
   "nbconvert_exporter": "python",
   "pygments_lexer": "ipython3",
   "version": "3.6.2"
  }
 },
 "nbformat": 4,
 "nbformat_minor": 2
}
