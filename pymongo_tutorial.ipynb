{
 "cells": [
  {
   "cell_type": "code",
   "execution_count": null,
   "metadata": {},
   "outputs": [],
   "source": [
    "# https://metanit.com/nosql/mongodb/\n",
    "# http://api.mongodb.com/python/current/tutorial.html\n",
    "# https://www.w3schools.com/python/python_mongodb_getstarted.asp"
   ]
  },
  {
   "cell_type": "code",
   "execution_count": null,
   "metadata": {},
   "outputs": [],
   "source": [
    "# pip install pymongo\n",
    "\n",
    "import pymongo"
   ]
  },
  {
   "cell_type": "code",
   "execution_count": null,
   "metadata": {},
   "outputs": [],
   "source": [
    "# Create a database called \"mydatabase\"\n",
    "\n",
    "import pymongo\n",
    "\n",
    "myclient = pymongo.MongoClient(\"mongodb://localhost:27017/\")\n",
    "\n",
    "mydb = myclient[\"mydatabase\"]\n",
    "\n",
    "\"\"\"\n",
    "Important: In MongoDB, a database is not created until it gets content!\n",
    "MongoDB waits until you have created a collection (table), \n",
    "with at least one document (record) before it actually creates the database (and collection).\n",
    "\"\"\""
   ]
  },
  {
   "cell_type": "code",
   "execution_count": null,
   "metadata": {},
   "outputs": [],
   "source": [
    "# The first step when working with PyMongo is to create a MongoClient.\n",
    "\n",
    "from pymongo import MongoClient\n",
    "\n",
    "client = MongoClient()\n",
    "\n",
    "client = MongoClient('localhost', 27017)\n",
    "# or\n",
    "client = MongoClient('mongodb://localhost:27017/')"
   ]
  },
  {
   "cell_type": "code",
   "execution_count": null,
   "metadata": {},
   "outputs": [],
   "source": [
    "# Check if Database Exists\n",
    "\n",
    "print(myclient.list_database_names())"
   ]
  },
  {
   "cell_type": "code",
   "execution_count": null,
   "metadata": {},
   "outputs": [],
   "source": [
    "# https://riptutorial.com/ru/pymongo\n",
    "# quick start\n",
    "from pymongo import MongoClient\n",
    "\n",
    "client = MongoClient()\n",
    "col = client.mydb.test\n",
    "\n",
    "# insert_one(document)\n",
    "result = col.insert_one({'x':1})\n",
    "\n",
    "result.inserted_id\n",
    "\n",
    "# insert_many(documents)\n",
    "result = col.insert_many([{'x': 2}, {'x': 3}])\n",
    "\n",
    "result.inserted_ids\n",
    "\n"
   ]
  }
 ],
 "metadata": {
  "kernelspec": {
   "display_name": "Python 3",
   "language": "python",
   "name": "python3"
  },
  "language_info": {
   "codemirror_mode": {
    "name": "ipython",
    "version": 3
   },
   "file_extension": ".py",
   "mimetype": "text/x-python",
   "name": "python",
   "nbconvert_exporter": "python",
   "pygments_lexer": "ipython3",
   "version": "3.6.2"
  }
 },
 "nbformat": 4,
 "nbformat_minor": 2
}
